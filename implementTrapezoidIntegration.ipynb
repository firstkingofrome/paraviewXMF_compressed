{
 "cells": [
  {
   "cell_type": "code",
   "execution_count": null,
   "metadata": {},
   "outputs": [],
   "source": [
    "\"\"\"\n",
    "I had to pull my trapezoid integrator out of scipy so that it can be used more flexibely (on part of a series instead of just one value)\n",
    "I also wanted to be able to compile this with numba\n",
    "\"\"\""
   ]
  },
  {
   "cell_type": "code",
   "execution_count": 1,
   "metadata": {},
   "outputs": [],
   "source": [
    "import numpy as np\n",
    "import h5py\n",
    "import hdf5plugin"
   ]
  },
  {
   "cell_type": "code",
   "execution_count": 2,
   "metadata": {},
   "outputs": [],
   "source": [
    "def tupleset(t, i, value):\n",
    "    l = list(t)\n",
    "    l[i] = value\n",
    "    return tuple(l)\n",
    "\n",
    "\n",
    "#adapted to work when the time series must be broken into partitions\n",
    "def partitionTrapezoid(y, dx=1.0, axis=-1,lastVel=None,lastDisp=None):\n",
    "    y = np.asarray(y)\n",
    "    if(lastVel is not None): y=np.concatenate((np.array([lastVel]),y),axis=axis)\n",
    "    d = dx\n",
    "    nd = len(y.shape)\n",
    "    #slice 1 and 2 just gets every other element\n",
    "    slice1 = tupleset((slice(None),)*nd, axis, slice(1, None))\n",
    "    slice2 = tupleset((slice(None),)*nd, axis, slice(None, -1))\n",
    "\n",
    "    #now deal with the cumulative sume starting at the last point\n",
    "    if(lastDisp is not None):\n",
    "        #not really sure how this will play with multi dim data...\n",
    "        res = d*(y[slice1] + y[slice2]) / 2.0\n",
    "        res[0] = res[0]+lastDisp\n",
    "        #now add the rest of the results to the cumsum\n",
    "        res= np.cumsum(res,axis=axis)\n",
    "    else:\n",
    "        res = np.cumsum(d*(y[slice1] + y[slice2]) / 2.0, axis=axis)\n",
    "    \n",
    "    return res\n",
    "\"\"\"\n",
    "#test the partitioned integral\n",
    "testX = np.arange(0,10,1)\n",
    "testY = np.power(testX,2)\n",
    "dx=1\n",
    "integrateX = partitionTrapezoid(testY,dx=dx,axis=0)\n",
    "#now integrate in steps\n",
    "\n",
    "integrateXP1 = partitionTrapezoid(y=testY[0:5],dx=dx,axis=0)\n",
    "lastDisp = integrateXP1[-1]\n",
    "lastVel = testY[4]\n",
    "integrateXP2 = partitionTrapezoid(y=testY[5:10],dx=dx,axis=0,lastVel=lastVel,lastDisp=lastDisp)\n",
    "#integrateXP2 = cumTrapz(testY[5:10],dx=dx,axis=0,lastValue=None)\n",
    "\"\"\""
   ]
  },
  {
   "cell_type": "code",
   "execution_count": 12,
   "metadata": {},
   "outputs": [],
   "source": [
    "data = h5py.File('1HzFullZFP_Compressed.hdf5','r')\n",
    "dt = data['timestep'][:][0]\n",
    "time = np.arange(0,(data['vel_0 ijk layout'].shape[0]-1)*dt,dt)"
   ]
  },
  {
   "cell_type": "code",
   "execution_count": 14,
   "metadata": {},
   "outputs": [
    {
     "name": "stdout",
     "output_type": "stream",
     "text": [
      "CPU times: user 19.8 s, sys: 4.21 s, total: 24.1 s\n",
      "Wall time: 25.6 s\n"
     ]
    },
    {
     "data": {
      "text/plain": [
       "[<matplotlib.lines.Line2D at 0x2ac861283160>]"
      ]
     },
     "execution_count": 14,
     "metadata": {},
     "output_type": "execute_result"
    },
    {
     "data": {
      "image/png": "[encoded data removed]",
      "text/plain": [
       "<Figure size 432x288 with 1 Axes>"
      ]
     },
     "metadata": {
      "needs_background": "light"
     },
     "output_type": "display_data"
    }
   ],
   "source": [
    "%%time\n",
    "import matplotlib.pyplot as plt\n",
    "point = (100,100,0)\n",
    "wholeTimeSeries = data['vel_0 ijk layout'][:,point[0],point[1],point[2]]\n",
    "#now integrate this time series and plot the result\n",
    "y_int = partitionTrapezoid(y=wholeTimeSeries,dx=dt, axis=0)\n",
    "plt.plot(time, y_int, 'r')\n"
   ]
  },
  {
   "cell_type": "code",
   "execution_count": 15,
   "metadata": {},
   "outputs": [],
   "source": [
    "#this time integrate the time series in chunks"
   ]
  },
  {
   "cell_type": "code",
   "execution_count": null,
   "metadata": {},
   "outputs": [],
   "source": [
    "%%time\n",
    "\n",
    "\n",
    "result = np.zeros(shape=wholeTimeSeries.shape,dtype=wholeTimeSeries.dtype)\n",
    "dtChunk = data['vel_0 ijk layout'].chunks[0]\n",
    "# make sure that this is always one larger than it should be so that I can assign the first value to the last\n",
    "#value from the previous trapezoid call\n",
    "currentChunk = np.zeros(shape=(dtChunk),dtype=wholeTimeSeries.dtype)\n",
    "lastVel = np.zeros(shape=(1),dtype=wholeTimeSeries.dtype)\n",
    "lastDisp = np.zeros(shape=(1),dtype=wholeTimeSeries.dtype)\n",
    "\n",
    "for i in range(0,data['vel_0 ijk layout'].shape[0],dtChunk):\n",
    "    currentChunk = data['vel_0 ijk layout'][i:i+dtChunk,point[0],point[1],point[2]] #                  \n",
    "    #integrate the current chunk, skip the first value since this was the last values\n",
    "    #for the previous integrand\n",
    "    currentChunk = partitionTrapezoid(y=currentChunk,dx=dt,axis=0,lastVel=lastVel,lastDisp=lastDisp)\n",
    "    result[i:i+currentChunk.shape[0]] = currentChunk\n",
    "    #save the last value so that the next integral starts in the correct position\n",
    "    lastVel[:]  = data['vel_0 ijk layout'][i,point[0],point[1],point[2]]\n",
    "    \n",
    "#now plot as compared to the other result\n",
    "plt.plot(time[0:result.shape[0]], y_int[0:result.shape[0]], 'r',time[0:result.shape[0]],result,'b')"
   ]
  },
  {
   "cell_type": "code",
   "execution_count": null,
   "metadata": {},
   "outputs": [],
   "source": []
  }
 ],
 "metadata": {
  "kernelspec": {
   "display_name": "Python 3",
   "language": "python",
   "name": "python3"
  },
  "language_info": {
   "codemirror_mode": {
    "name": "ipython",
    "version": 3
   },
   "file_extension": ".py",
   "mimetype": "text/x-python",
   "name": "python",
   "nbconvert_exporter": "python",
   "pygments_lexer": "ipython3",
   "version": "3.7.3"
  }
 },
 "nbformat": 4,
 "nbformat_minor": 4
}
