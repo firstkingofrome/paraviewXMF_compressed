{
 "cells": [
  {
   "cell_type": "code",
   "execution_count": 1,
   "metadata": {},
   "outputs": [],
   "source": [
    "import numpy as np\n",
    "import h5py\n",
    "import hdf5plugin\n",
    "import os\n",
    "\n",
    "chunks = (50,26,3,26)\n",
    "rate = 0.1"
   ]
  },
  {
   "cell_type": "code",
   "execution_count": 2,
   "metadata": {},
   "outputs": [],
   "source": [
    "### fixed rate\n",
    "inputData = \"Location48faultNormal.cycle=00000.essi\"\n",
    "compressedData = \"CompressedRateTest.h5\"\n",
    "data = h5py.File(inputData,'r')\n",
    "spacing,origin,dt = data['ESSI xyz grid spacing'],data['ESSI xyz origin'],data['timestep']\n",
    "\n",
    "\n",
    "xVel,yVel,zVel = data['vel_0 ijk layout'][:],data['vel_1 ijk layout'][:],data['vel_2 ijk layout'][:]\n",
    "\n",
    "#now recreate those data sets as compressed data\n",
    "compressed = h5py.File(compressedData,'w')\n",
    "\n",
    "#reformate to fortran order\n",
    "\"\"\"\n",
    "xVel = np.asfortranarray(xVel)\n",
    "yVel = np.asfortranarray(yVel)\n",
    "zVel = np.asfortranarray(zVel)\n",
    "\"\"\"\n",
    "\n",
    "compressed.create_dataset('vel_0 ijk layout', data=xVel,chunks=chunks,\n",
    "    **hdf5plugin.Zfp(rate=rate))\n",
    "\n",
    "compressed.create_dataset('vel_1 ijk layout', data=yVel,chunks=chunks,\n",
    "    **hdf5plugin.Zfp(rate=rate))\n",
    "\n",
    "\n",
    "compressed.create_dataset('vel_2 ijk layout', data=zVel,chunks=chunks,\n",
    "    **hdf5plugin.Zfp(rate=rate))\n",
    "\n",
    "\n",
    "\n",
    "#also save the metadata\n",
    "compressed.create_dataset('ESSI xyz grid spacing',data=spacing)\n",
    "compressed.create_dataset('ESSI xyz origin',data=origin)\n",
    "compressed.create_dataset('timestep',data=dt)\n",
    "compressed.close()\n",
    "data.close()\n",
    "\n"
   ]
  },
  {
   "cell_type": "code",
   "execution_count": 3,
   "metadata": {},
   "outputs": [
    {
     "name": "stdout",
     "output_type": "stream",
     "text": [
      "total 1.9G\n",
      "-rw-r--r--   1 eeckert users 4.9M Jul 28 15:13 CompressedRateTest.h5\n",
      "drwxr-xr-x   5 eeckert users 4.0K Jul 28 15:13 \u001b[0m\u001b[38;5;27m.\u001b[0m/\n",
      "-rw-r--r--   1 eeckert users 174K Jul 28 15:13 compareCompressedandUncompressedData-displacement.ipynb\n",
      "-rw-r--r--   1 eeckert users 3.4K Jul 28 15:12 compressZFP.py\n",
      "drwxr-xr-x   2 eeckert users 4.0K Jul 28 15:12 \u001b[38;5;27mpngPlots\u001b[0m/\n",
      "-rw-r--r--   1 eeckert users 3.9K Jul 28 15:10 compressZFSwithPythonRATECONTROLLED.ipynb\n",
      "drwxr-xr-x   2 eeckert users 4.0K Jul 28 14:05 \u001b[38;5;27m.ipynb_checkpoints\u001b[0m/\n",
      "-rw-r--r--   1 eeckert users  16M Jul 28 12:30 \u001b[38;5;9mtestCompressionH5PY_ZFP_PLUGIN.zip\u001b[0m\n",
      "drwxr-xr-x   4 eeckert users 4.0K Jul 28 11:09 \u001b[38;5;27msw4_zfs\u001b[0m/\n",
      "drwxr-xr-x. 48 eeckert users 4.0K Jul 27 12:50 \u001b[38;5;27m..\u001b[0m/\n",
      "-rw-r--r--   1 eeckert users 3.3K Jul 24 16:35 callH5PyDireclty.ipynb\n",
      "-rw-r--r--   1 eeckert users 2.7K Jul 24 15:43 compressZFSwithPythonAccuracyControlled.ipynb\n",
      "-rw-r--r--   1 eeckert users 1.8K Jul 24 14:43 loadZFPCompressedData.ipynb\n",
      "-rw-r--r--   1 eeckert users 1.9G Jul 22 14:45 Location48faultNormal.cycle=00000.essi\n"
     ]
    }
   ],
   "source": [
    "ls -laht"
   ]
  },
  {
   "cell_type": "code",
   "execution_count": null,
   "metadata": {},
   "outputs": [],
   "source": []
  }
 ],
 "metadata": {
  "kernelspec": {
   "display_name": "Python 3",
   "language": "python",
   "name": "python3"
  },
  "language_info": {
   "codemirror_mode": {
    "name": "ipython",
    "version": 3
   },
   "file_extension": ".py",
   "mimetype": "text/x-python",
   "name": "python",
   "nbconvert_exporter": "python",
   "pygments_lexer": "ipython3",
   "version": "3.7.3"
  }
 },
 "nbformat": 4,
 "nbformat_minor": 4
}
